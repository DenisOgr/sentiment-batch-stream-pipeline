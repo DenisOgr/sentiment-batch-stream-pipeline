{
 "cells": [
  {
   "cell_type": "code",
   "execution_count": 9,
   "id": "weird-spirituality",
   "metadata": {},
   "outputs": [],
   "source": [
    "import pandas as pd\n",
    "pd.set_option('display.max_colwidth', 1000)"
   ]
  },
  {
   "cell_type": "code",
   "execution_count": 16,
   "id": "sought-smoke",
   "metadata": {},
   "outputs": [],
   "source": [
    "columns = ['tweet',  'date', 'time', 'urls', 'likes_count', 'replies_count','retweets_count']\n",
    "df = pd.read_csv('/Users/dporp/Sites/sentiment-batch-stream-pipeline/spark_app/jobs/test_1.csv')\n",
    "\n"
   ]
  },
  {
   "cell_type": "code",
   "execution_count": 17,
   "id": "pending-madagascar",
   "metadata": {},
   "outputs": [
    {
     "data": {
      "text/plain": [
       "tweet             object\n",
       "created_at        object\n",
       "replies_count      int64\n",
       "retweets_count     int64\n",
       "likes_count        int64\n",
       "dtype: object"
      ]
     },
     "execution_count": 17,
     "metadata": {},
     "output_type": "execute_result"
    }
   ],
   "source": [
    "df.dtypes"
   ]
  },
  {
   "cell_type": "code",
   "execution_count": 18,
   "id": "controlling-nepal",
   "metadata": {},
   "outputs": [
    {
     "data": {
      "text/html": [
       "<div>\n",
       "<style scoped>\n",
       "    .dataframe tbody tr th:only-of-type {\n",
       "        vertical-align: middle;\n",
       "    }\n",
       "\n",
       "    .dataframe tbody tr th {\n",
       "        vertical-align: top;\n",
       "    }\n",
       "\n",
       "    .dataframe thead th {\n",
       "        text-align: right;\n",
       "    }\n",
       "</style>\n",
       "<table border=\"1\" class=\"dataframe\">\n",
       "  <thead>\n",
       "    <tr style=\"text-align: right;\">\n",
       "      <th></th>\n",
       "      <th>tweet</th>\n",
       "      <th>created_at</th>\n",
       "      <th>replies_count</th>\n",
       "      <th>retweets_count</th>\n",
       "      <th>likes_count</th>\n",
       "    </tr>\n",
       "  </thead>\n",
       "  <tbody>\n",
       "    <tr>\n",
       "      <th>0</th>\n",
       "      <td>@NastiaLiukin True, Lukin in Worlds. The first ever gymnast who competed with triple back on Floor was Igor PORPLENKO (USSR) in 1985 at international level. It was in Bucharest (ROM).</td>\n",
       "      <td>2020-06-20 23:26:07 EEST</td>\n",
       "      <td>0</td>\n",
       "      <td>0</td>\n",
       "      <td>3</td>\n",
       "    </tr>\n",
       "    <tr>\n",
       "      <th>1</th>\n",
       "      <td>@rockergymnastix Lukin in Worlds. The first ever gymnast competed with triple back on Floor was Igor PORPLENKO (USSR) in 1985 at international level. It was in Bucharest (ROM).</td>\n",
       "      <td>2020-06-20 23:19:56 EEST</td>\n",
       "      <td>1</td>\n",
       "      <td>0</td>\n",
       "      <td>7</td>\n",
       "    </tr>\n",
       "    <tr>\n",
       "      <th>2</th>\n",
       "      <td>Porplenko performed it for the first time in 1985.  nikushkarus's video  https://t.co/EcVhM0EIlA</td>\n",
       "      <td>2016-11-04 17:44:13 EET</td>\n",
       "      <td>0</td>\n",
       "      <td>0</td>\n",
       "      <td>0</td>\n",
       "    </tr>\n",
       "    <tr>\n",
       "      <th>3</th>\n",
       "      <td>Фото senya_porplenko  http://t.co/VErA8u8Zv0</td>\n",
       "      <td>2014-09-09 09:10:09 EEST</td>\n",
       "      <td>0</td>\n",
       "      <td>0</td>\n",
       "      <td>0</td>\n",
       "    </tr>\n",
       "    <tr>\n",
       "      <th>4</th>\n",
       "      <td>Конкурс  http://t.co/XUU66dqIEx через @cosmo_ua подружка)</td>\n",
       "      <td>2013-03-05 22:44:52 EET</td>\n",
       "      <td>0</td>\n",
       "      <td>0</td>\n",
       "      <td>0</td>\n",
       "    </tr>\n",
       "    <tr>\n",
       "      <th>...</th>\n",
       "      <td>...</td>\n",
       "      <td>...</td>\n",
       "      <td>...</td>\n",
       "      <td>...</td>\n",
       "      <td>...</td>\n",
       "    </tr>\n",
       "    <tr>\n",
       "      <th>95</th>\n",
       "      <td>Кіт, хворий на сказ, покусав козу http://promisto.com.ua/index.php/nauhtdzds/784-2010-05-08-10-05-30#cherkassy</td>\n",
       "      <td>2010-05-08 14:52:20 EEST</td>\n",
       "      <td>0</td>\n",
       "      <td>0</td>\n",
       "      <td>0</td>\n",
       "    </tr>\n",
       "    <tr>\n",
       "      <th>96</th>\n",
       "      <td>чим загрожує укус енцефалітного кліща? http://promisto.com.ua/index.php/nauhtdzds/785-2010-05-08-10-08-54#cherkassy</td>\n",
       "      <td>2010-05-08 14:51:36 EEST</td>\n",
       "      <td>0</td>\n",
       "      <td>0</td>\n",
       "      <td>0</td>\n",
       "    </tr>\n",
       "    <tr>\n",
       "      <th>97</th>\n",
       "      <td>Ветеранам подарували квартири http://promisto.com.ua/index.php/2009-02-05-18-43-28/786-2010-05-08-10-14-09#cherkassy</td>\n",
       "      <td>2010-05-08 14:50:26 EEST</td>\n",
       "      <td>0</td>\n",
       "      <td>0</td>\n",
       "      <td>0</td>\n",
       "    </tr>\n",
       "    <tr>\n",
       "      <th>98</th>\n",
       "      <td>Повільне одужання банків Черкас http://promisto.com.ua/index.php/econom-cherk/787-2010-05-08-10-19-02#cherkassy</td>\n",
       "      <td>2010-05-08 14:49:45 EEST</td>\n",
       "      <td>0</td>\n",
       "      <td>0</td>\n",
       "      <td>0</td>\n",
       "    </tr>\n",
       "    <tr>\n",
       "      <th>99</th>\n",
       "      <td>Європейська юнацька баскетбольна ліга у Черкасах http://promisto.com.ua/index.php/2009-02-05-18-42-51/788-2010-05-08-10-22-43#cherkassy</td>\n",
       "      <td>2010-05-08 14:49:00 EEST</td>\n",
       "      <td>0</td>\n",
       "      <td>0</td>\n",
       "      <td>0</td>\n",
       "    </tr>\n",
       "  </tbody>\n",
       "</table>\n",
       "<p>100 rows × 5 columns</p>\n",
       "</div>"
      ],
      "text/plain": [
       "                                                                                                                                                                                      tweet  \\\n",
       "0   @NastiaLiukin True, Lukin in Worlds. The first ever gymnast who competed with triple back on Floor was Igor PORPLENKO (USSR) in 1985 at international level. It was in Bucharest (ROM).   \n",
       "1          @rockergymnastix Lukin in Worlds. The first ever gymnast competed with triple back on Floor was Igor PORPLENKO (USSR) in 1985 at international level. It was in Bucharest (ROM).   \n",
       "2                                                                                          Porplenko performed it for the first time in 1985.  nikushkarus's video  https://t.co/EcVhM0EIlA   \n",
       "3                                                                                                                                              Фото senya_porplenko  http://t.co/VErA8u8Zv0   \n",
       "4                                                                                                                                 Конкурс  http://t.co/XUU66dqIEx через @cosmo_ua подружка)   \n",
       "..                                                                                                                                                                                      ...   \n",
       "95                                                                           Кіт, хворий на сказ, покусав козу http://promisto.com.ua/index.php/nauhtdzds/784-2010-05-08-10-05-30#cherkassy   \n",
       "96                                                                      чим загрожує укус енцефалітного кліща? http://promisto.com.ua/index.php/nauhtdzds/785-2010-05-08-10-08-54#cherkassy   \n",
       "97                                                                     Ветеранам подарували квартири http://promisto.com.ua/index.php/2009-02-05-18-43-28/786-2010-05-08-10-14-09#cherkassy   \n",
       "98                                                                          Повільне одужання банків Черкас http://promisto.com.ua/index.php/econom-cherk/787-2010-05-08-10-19-02#cherkassy   \n",
       "99                                                  Європейська юнацька баскетбольна ліга у Черкасах http://promisto.com.ua/index.php/2009-02-05-18-42-51/788-2010-05-08-10-22-43#cherkassy   \n",
       "\n",
       "                  created_at  replies_count  retweets_count  likes_count  \n",
       "0   2020-06-20 23:26:07 EEST              0               0            3  \n",
       "1   2020-06-20 23:19:56 EEST              1               0            7  \n",
       "2    2016-11-04 17:44:13 EET              0               0            0  \n",
       "3   2014-09-09 09:10:09 EEST              0               0            0  \n",
       "4    2013-03-05 22:44:52 EET              0               0            0  \n",
       "..                       ...            ...             ...          ...  \n",
       "95  2010-05-08 14:52:20 EEST              0               0            0  \n",
       "96  2010-05-08 14:51:36 EEST              0               0            0  \n",
       "97  2010-05-08 14:50:26 EEST              0               0            0  \n",
       "98  2010-05-08 14:49:45 EEST              0               0            0  \n",
       "99  2010-05-08 14:49:00 EEST              0               0            0  \n",
       "\n",
       "[100 rows x 5 columns]"
      ]
     },
     "execution_count": 18,
     "metadata": {},
     "output_type": "execute_result"
    }
   ],
   "source": [
    "df.head(100)"
   ]
  },
  {
   "cell_type": "code",
   "execution_count": null,
   "id": "respected-tanzania",
   "metadata": {},
   "outputs": [],
   "source": []
  }
 ],
 "metadata": {
  "kernelspec": {
   "display_name": "Python 3",
   "language": "python",
   "name": "python3"
  },
  "language_info": {
   "codemirror_mode": {
    "name": "ipython",
    "version": 3
   },
   "file_extension": ".py",
   "mimetype": "text/x-python",
   "name": "python",
   "nbconvert_exporter": "python",
   "pygments_lexer": "ipython3",
   "version": "3.7.9"
  }
 },
 "nbformat": 4,
 "nbformat_minor": 5
}
